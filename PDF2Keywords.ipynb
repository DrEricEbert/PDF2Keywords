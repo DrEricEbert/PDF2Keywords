{
 "cells": [
  {
   "cell_type": "code",
   "execution_count": null,
   "id": "132798b8-5823-4a3b-8fe6-7d7907169774",
   "metadata": {},
   "outputs": [],
   "source": [
    "from nlp_rake import Rake\n",
    "rake = Rake()\n",
    "#keywords = rake.apply(text_en)\n",
    "print(keywords)"
   ]
  },
  {
   "cell_type": "code",
   "execution_count": null,
   "id": "49385f22-7393-4b15-9402-314e8ee7c251",
   "metadata": {},
   "outputs": [],
   "source": [
    "import tkinter as tk\n",
    "from tkinter import filedialog\n",
    "root = tk.Tk()\n",
    "root.withdraw()\n",
    "root.call('wm', 'attributes', '.', '-topmost', True)\n",
    "files = filedialog.askopenfilename(multiple=True,filetypes=[(\"PDF files\", \"*.pdf\")]) \n",
    "%gui tk\n",
    "var = root.tk.splitlist(files)\n",
    "filePaths = []\n",
    "for f in var:\n",
    "    filePaths.append(f)\n",
    "\n",
    "\n"
   ]
  },
  {
   "cell_type": "code",
   "execution_count": null,
   "id": "1c9c4add-1a58-4710-90ba-869f9fff2d11",
   "metadata": {},
   "outputs": [],
   "source": [
    "# importing required modules \n",
    "import PyPDF2 \n",
    "\n",
    "keywordsPerPage=[]\n",
    "\n",
    "for pdf in filePaths: \n",
    "    print(pdf) \n",
    "    pdfFileObj = open(pdf, 'rb') \n",
    "    pdfReader = PyPDF2.PdfFileReader(pdfFileObj) \n",
    "    for page in range(0,pdfReader.numPages):\n",
    "        print(\"Page:\"+ str(page))\n",
    "        print(\"==================\")\n",
    "        pageObj = pdfReader.getPage(page) \n",
    "        keywords = rake.apply(pageObj.extractText())\n",
    "        print(keywords[0:5]) \n",
    "        keywordsPerPage.append(keywords)\n",
    "    pdfFileObj.close() "
   ]
  },
  {
   "cell_type": "code",
   "execution_count": null,
   "id": "577b2167-4aa1-4e9c-9b3f-fffba3f629f7",
   "metadata": {},
   "outputs": [],
   "source": []
  }
 ],
 "metadata": {
  "kernelspec": {
   "display_name": "Python 3 (ipykernel)",
   "language": "python",
   "name": "python3"
  },
  "language_info": {
   "codemirror_mode": {
    "name": "ipython",
    "version": 3
   },
   "file_extension": ".py",
   "mimetype": "text/x-python",
   "name": "python",
   "nbconvert_exporter": "python",
   "pygments_lexer": "ipython3",
   "version": "3.8.13"
  }
 },
 "nbformat": 4,
 "nbformat_minor": 5
}
